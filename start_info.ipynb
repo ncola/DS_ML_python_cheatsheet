{
 "cells": [
  {
   "cell_type": "markdown",
   "metadata": {},
   "source": [
    "# Machine Learning\n",
    "\n",
    "It is a subset of AI focused on building systems that can learn from and make decisions based on data. Instead of being explicitly programmed, a machine learning model learns patterns from historical data and applies those patterns to new, unseen data to make predictions or decisions\n",
    "\n",
    "\n",
    "The foundation of ML is data. Models are trained on data, which can be numerical, textual, image-based, or otherwise. The quality and quantity of the data significantly impact the model's performance\n",
    "    \n",
    "    TRASH IN -> TRASH OUT\n",
    " \n",
    "## Types of ML\n",
    "\n",
    "1. Supervised Learning:\n",
    "\n",
    "The model is trained on labeled data (data that already contains the correct output)\n",
    "\n",
    "Example: spam email classification (spam or not spam)\n",
    "\n",
    "Example of models:\n",
    "- Linear Regression - used for predicting continuous values\n",
    "- Logistic Regression - used for binary classification problems\n",
    "- Support Vector Machines (SVM) - a classification model that finds the optimal hyperplane to separate classes \n",
    "- Decision Trees - a model that splits the data into branches based on feature values to make decisions\n",
    "- Random Forest - an ensemble of decision trees used for classification or regression tasks \n",
    "- k-Nearest Neighbors (KNN) - a simple algorithm that classifies data based on the majority class of its neighbors \n",
    "- Neural Networks - deep learning models that mimic the human brain and can learn complex patterns in data \n",
    "\n",
    "\n",
    "2. Unsupervised Learning:\n",
    "\n",
    "The model works with unlabeled data and tries to find hidden patterns or structures within the data\n",
    "\n",
    "Example: clustering customers into groups based on purchasing behavior\n",
    "\n",
    "3. Reinforcement Learning:\n",
    "\n",
    "An agent learns by interacting with an environment and receiving rewards or penalties based on its actions\n",
    "\n",
    "Example: Training a robot to walk by rewarding it for staying uprigh"
   ]
  }
 ],
 "metadata": {
  "kernelspec": {
   "display_name": "venv",
   "language": "python",
   "name": "python3"
  },
  "language_info": {
   "codemirror_mode": {
    "name": "ipython",
    "version": 3
   },
   "file_extension": ".py",
   "mimetype": "text/x-python",
   "name": "python",
   "nbconvert_exporter": "python",
   "pygments_lexer": "ipython3",
   "version": "3.11.0"
  }
 },
 "nbformat": 4,
 "nbformat_minor": 2
}
